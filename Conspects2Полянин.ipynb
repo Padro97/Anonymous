def xo(s):
    s = s.lower()
    return s.count('x') == s.count('o')
s = input("Введите строку: ")
if xo(s):
    print("True")
else:
    print("False")